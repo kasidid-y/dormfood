{
  "nbformat": 4,
  "nbformat_minor": 0,
  "metadata": {
    "colab": {
      "provenance": [],
      "authorship_tag": "ABX9TyNxFn/IF9RN38PI+uiYqDkk",
      "include_colab_link": true
    },
    "kernelspec": {
      "name": "python3",
      "display_name": "Python 3"
    },
    "language_info": {
      "name": "python"
    }
  },
  "cells": [
    {
      "cell_type": "markdown",
      "metadata": {
        "id": "view-in-github",
        "colab_type": "text"
      },
      "source": [
        "<a href=\"https://colab.research.google.com/github/kasidid-y/dormfood/blob/master/TextClustering.ipynb\" target=\"_parent\"><img src=\"https://colab.research.google.com/assets/colab-badge.svg\" alt=\"Open In Colab\"/></a>"
      ]
    },
    {
      "cell_type": "code",
      "execution_count": 2,
      "metadata": {
        "id": "6zYO8OkCOA5D"
      },
      "outputs": [],
      "source": [
        "# reference : https://www.kaggle.com/code/karthik3890/text-clustering\n",
        "# นายกษิดิศ อยู่คง 6530200576\n",
        "\n",
        "#Data Collection\n",
        "import pandas as pd\n",
        "import re\n",
        "data = pd.read_csv('testData500.csv')"
      ]
    },
    {
      "cell_type": "code",
      "source": [
        "#Data Preprocessing\n",
        "partition = lambda x : 'negative' if x < 3 else 'positive'\n",
        "actualScore = data['Score']\n",
        "positiveNegative = actualScore.map(partition)\n",
        "data['Score'] = positiveNegative\n",
        "\n",
        "sorted_data = data.sort_values('ProductId', axis=0, ascending=True, inplace=False, kind='quicksort', na_position='last')\n",
        "final = sorted_data.drop_duplicates(subset={\"UserId\",\"ProfileName\",\"Time\",\"Text\"}, keep='first', inplace=False)"
      ],
      "metadata": {
        "id": "SsLJtmlPVIeZ"
      },
      "execution_count": 3,
      "outputs": []
    },
    {
      "cell_type": "code",
      "source": [
        "import nltk\n",
        "nltk.download('stopwords')\n",
        "from nltk.corpus import stopwords\n",
        "sno = nltk.stem.SnowballStemmer('english')\n",
        "stop=set(stopwords.words('english'))\n",
        "print(stop)"
      ],
      "metadata": {
        "colab": {
          "base_uri": "https://localhost:8080/"
        },
        "id": "bLu3Xi5TVSEW",
        "outputId": "1b1f25cb-602c-48e4-dd38-a1265ff5b1f4"
      },
      "execution_count": 4,
      "outputs": [
        {
          "output_type": "stream",
          "name": "stderr",
          "text": [
            "[nltk_data] Downloading package stopwords to /root/nltk_data...\n"
          ]
        },
        {
          "output_type": "stream",
          "name": "stdout",
          "text": [
            "{\"she's\", \"don't\", 'what', 'by', 'then', 'should', 't', 'theirs', 'during', 'nor', 'above', 'on', 'weren', 'when', 're', \"hasn't\", 'or', 'am', 'hadn', 'they', 'is', 'same', 'this', 'wasn', 'll', 'hasn', 'so', 'through', 'will', 'isn', 'didn', \"shan't\", 'these', 'over', 'again', 'but', \"you'll\", 'you', 'are', \"you're\", 'most', 'mightn', 'both', 'don', \"you've\", \"weren't\", 'her', 'm', 'a', 'shouldn', 'which', 'themselves', 'just', 'ours', 'some', \"mightn't\", 'be', 'of', 'their', 'no', 'do', 'further', 'out', 'own', 'mustn', \"wasn't\", 'i', 'it', 'how', 'myself', 'o', 'haven', 'before', 'ma', 'shan', \"needn't\", \"that'll\", \"should've\", 'up', 'now', 'were', 'yours', 'wouldn', 'with', 'more', 'into', 'about', 'if', 'd', 'off', \"isn't\", 'him', 'having', 'against', 've', 's', 'we', 'couldn', 'where', 'under', 'aren', 'yourself', 'each', 'other', \"hadn't\", 'doesn', 'y', 'why', \"shouldn't\", 'she', 'all', \"won't\", \"haven't\", 'me', 'had', 'those', 'down', 'does', 'because', 'have', 'too', 'and', 'there', 'few', \"doesn't\", 'being', 'did', 'than', 'has', 'not', 'after', 'until', \"didn't\", 'in', 'between', \"it's\", \"aren't\", 'ourselves', 'doing', 'to', \"wouldn't\", 'our', 'himself', 'as', 'any', 'was', 'herself', 'that', 'can', 'hers', \"you'd\", 'been', 'itself', 'from', 'he', 'very', 'such', 'my', 'the', 'needn', 'below', 'them', 'for', \"couldn't\", \"mustn't\", 'an', 'here', 'while', 'your', 'at', 'who', 'won', 'whom', 'once', 'its', 'only', 'his', 'yourselves', 'ain'}\n"
          ]
        },
        {
          "output_type": "stream",
          "name": "stderr",
          "text": [
            "[nltk_data]   Unzipping corpora/stopwords.zip.\n"
          ]
        }
      ]
    },
    {
      "cell_type": "code",
      "source": [
        "#Data Preprocessing\n",
        "def cleanHtml(sentence):\n",
        "    clean = re.compile('<.>*?')\n",
        "    cleantext = re.sub(clean,' ',sentence)\n",
        "    return cleantext\n",
        "\n",
        "def cleanPunc(sentence):\n",
        "    cleaned = re.sub(r'[?|!|\\'|\"|#]', r'', sentence)\n",
        "    cleaned = re.sub(r'[.|,|)|(|\\|/]', r' ', cleaned) #`r` - raw data\n",
        "    return cleaned\n",
        "\n",
        "all_positive_words = []\n",
        "all_negatie_words = []\n",
        "final_string = []\n",
        "i = 0\n",
        "str1 = ''\n",
        "\n",
        "for sent in final['Text'].values:\n",
        "    filtered_sentence = []\n",
        "    sent = cleanHtml(sent)\n",
        "    for w in sent.split():\n",
        "        for clean_words in cleanPunc(w).split():\n",
        "            if( (clean_words.isalpha()) & (len(clean_words)>2) ):\n",
        "                if(clean_words.lower() not in stop):\n",
        "                    s = (sno.stem(clean_words.lower())).encode('utf8')\n",
        "\n",
        "                    filtered_sentence.append(s)\n",
        "                    if(final['Score'].values)[i] == 'positive':\n",
        "                        all_positive_words.append(s)\n",
        "\n",
        "                    if(final['Score'].values)[i] == 'negative':\n",
        "                        all_negatie_words.append(s)\n",
        "                else:\n",
        "                    continue\n",
        "            else:\n",
        "                continue\n",
        "\n",
        "\n",
        "\n",
        "    str1 = b\" \".join(filtered_sentence) #`b` - bytes (byte data)\n",
        "    final_string.append(str1)\n",
        "    i+=1\n",
        "\n",
        "#Feature engineering\n",
        "final['CleanedText']=final_string\n",
        "final['CleanedText']=final['CleanedText'].str.decode(\"utf-8\")\n"
      ],
      "metadata": {
        "id": "yjDw1wdoWT8z",
        "colab": {
          "base_uri": "https://localhost:8080/"
        },
        "outputId": "eb5eb6a8-860a-407f-e75c-b330065b0738"
      },
      "execution_count": 5,
      "outputs": [
        {
          "output_type": "stream",
          "name": "stderr",
          "text": [
            "<ipython-input-5-98a47e35a1c1>:45: SettingWithCopyWarning: \n",
            "A value is trying to be set on a copy of a slice from a DataFrame.\n",
            "Try using .loc[row_indexer,col_indexer] = value instead\n",
            "\n",
            "See the caveats in the documentation: https://pandas.pydata.org/pandas-docs/stable/user_guide/indexing.html#returning-a-view-versus-a-copy\n",
            "  final['CleanedText']=final_string\n",
            "<ipython-input-5-98a47e35a1c1>:46: SettingWithCopyWarning: \n",
            "A value is trying to be set on a copy of a slice from a DataFrame.\n",
            "Try using .loc[row_indexer,col_indexer] = value instead\n",
            "\n",
            "See the caveats in the documentation: https://pandas.pydata.org/pandas-docs/stable/user_guide/indexing.html#returning-a-view-versus-a-copy\n",
            "  final['CleanedText']=final['CleanedText'].str.decode(\"utf-8\")\n"
          ]
        }
      ]
    },
    {
      "cell_type": "code",
      "source": [
        "final.head()"
      ],
      "metadata": {
        "id": "cYVFDWJQWil5"
      },
      "execution_count": null,
      "outputs": []
    },
    {
      "cell_type": "code",
      "source": [
        "#Model development  : Vertorizing text\n",
        "from sklearn.feature_extraction.text import TfidfVectorizer\n",
        "tfidf_vect = TfidfVectorizer()\n",
        "tfidf = tfidf_vect.fit_transform(final['CleanedText'].values)\n",
        "tfidf.shape"
      ],
      "metadata": {
        "id": "xYKOjhKrXR_n",
        "colab": {
          "base_uri": "https://localhost:8080/"
        },
        "outputId": "b4f7f5f6-7330-4513-d1a7-b4bc49f36ae2"
      },
      "execution_count": null,
      "outputs": [
        {
          "output_type": "execute_result",
          "data": {
            "text/plain": [
              "(498, 2763)"
            ]
          },
          "metadata": {},
          "execution_count": 14
        }
      ]
    },
    {
      "cell_type": "code",
      "source": [
        "#Model development : clustering\n",
        "from sklearn.cluster import KMeans\n",
        "model_tf = KMeans(n_clusters = 10,random_state=99)\n",
        "model_tf.fit(tfidf)"
      ],
      "metadata": {
        "id": "i675m1OSXYcK",
        "colab": {
          "base_uri": "https://localhost:8080/",
          "height": 129
        },
        "outputId": "a2d690bc-85b4-4c2c-ccae-9c2ca85e57bd"
      },
      "execution_count": null,
      "outputs": [
        {
          "output_type": "stream",
          "name": "stderr",
          "text": [
            "/usr/local/lib/python3.10/dist-packages/sklearn/cluster/_kmeans.py:870: FutureWarning: The default value of `n_init` will change from 10 to 'auto' in 1.4. Set the value of `n_init` explicitly to suppress the warning\n",
            "  warnings.warn(\n"
          ]
        },
        {
          "output_type": "execute_result",
          "data": {
            "text/plain": [
              "KMeans(n_clusters=10, random_state=99)"
            ],
            "text/html": [
              "<style>#sk-container-id-1 {color: black;background-color: white;}#sk-container-id-1 pre{padding: 0;}#sk-container-id-1 div.sk-toggleable {background-color: white;}#sk-container-id-1 label.sk-toggleable__label {cursor: pointer;display: block;width: 100%;margin-bottom: 0;padding: 0.3em;box-sizing: border-box;text-align: center;}#sk-container-id-1 label.sk-toggleable__label-arrow:before {content: \"▸\";float: left;margin-right: 0.25em;color: #696969;}#sk-container-id-1 label.sk-toggleable__label-arrow:hover:before {color: black;}#sk-container-id-1 div.sk-estimator:hover label.sk-toggleable__label-arrow:before {color: black;}#sk-container-id-1 div.sk-toggleable__content {max-height: 0;max-width: 0;overflow: hidden;text-align: left;background-color: #f0f8ff;}#sk-container-id-1 div.sk-toggleable__content pre {margin: 0.2em;color: black;border-radius: 0.25em;background-color: #f0f8ff;}#sk-container-id-1 input.sk-toggleable__control:checked~div.sk-toggleable__content {max-height: 200px;max-width: 100%;overflow: auto;}#sk-container-id-1 input.sk-toggleable__control:checked~label.sk-toggleable__label-arrow:before {content: \"▾\";}#sk-container-id-1 div.sk-estimator input.sk-toggleable__control:checked~label.sk-toggleable__label {background-color: #d4ebff;}#sk-container-id-1 div.sk-label input.sk-toggleable__control:checked~label.sk-toggleable__label {background-color: #d4ebff;}#sk-container-id-1 input.sk-hidden--visually {border: 0;clip: rect(1px 1px 1px 1px);clip: rect(1px, 1px, 1px, 1px);height: 1px;margin: -1px;overflow: hidden;padding: 0;position: absolute;width: 1px;}#sk-container-id-1 div.sk-estimator {font-family: monospace;background-color: #f0f8ff;border: 1px dotted black;border-radius: 0.25em;box-sizing: border-box;margin-bottom: 0.5em;}#sk-container-id-1 div.sk-estimator:hover {background-color: #d4ebff;}#sk-container-id-1 div.sk-parallel-item::after {content: \"\";width: 100%;border-bottom: 1px solid gray;flex-grow: 1;}#sk-container-id-1 div.sk-label:hover label.sk-toggleable__label {background-color: #d4ebff;}#sk-container-id-1 div.sk-serial::before {content: \"\";position: absolute;border-left: 1px solid gray;box-sizing: border-box;top: 0;bottom: 0;left: 50%;z-index: 0;}#sk-container-id-1 div.sk-serial {display: flex;flex-direction: column;align-items: center;background-color: white;padding-right: 0.2em;padding-left: 0.2em;position: relative;}#sk-container-id-1 div.sk-item {position: relative;z-index: 1;}#sk-container-id-1 div.sk-parallel {display: flex;align-items: stretch;justify-content: center;background-color: white;position: relative;}#sk-container-id-1 div.sk-item::before, #sk-container-id-1 div.sk-parallel-item::before {content: \"\";position: absolute;border-left: 1px solid gray;box-sizing: border-box;top: 0;bottom: 0;left: 50%;z-index: -1;}#sk-container-id-1 div.sk-parallel-item {display: flex;flex-direction: column;z-index: 1;position: relative;background-color: white;}#sk-container-id-1 div.sk-parallel-item:first-child::after {align-self: flex-end;width: 50%;}#sk-container-id-1 div.sk-parallel-item:last-child::after {align-self: flex-start;width: 50%;}#sk-container-id-1 div.sk-parallel-item:only-child::after {width: 0;}#sk-container-id-1 div.sk-dashed-wrapped {border: 1px dashed gray;margin: 0 0.4em 0.5em 0.4em;box-sizing: border-box;padding-bottom: 0.4em;background-color: white;}#sk-container-id-1 div.sk-label label {font-family: monospace;font-weight: bold;display: inline-block;line-height: 1.2em;}#sk-container-id-1 div.sk-label-container {text-align: center;}#sk-container-id-1 div.sk-container {/* jupyter's `normalize.less` sets `[hidden] { display: none; }` but bootstrap.min.css set `[hidden] { display: none !important; }` so we also need the `!important` here to be able to override the default hidden behavior on the sphinx rendered scikit-learn.org. See: https://github.com/scikit-learn/scikit-learn/issues/21755 */display: inline-block !important;position: relative;}#sk-container-id-1 div.sk-text-repr-fallback {display: none;}</style><div id=\"sk-container-id-1\" class=\"sk-top-container\"><div class=\"sk-text-repr-fallback\"><pre>KMeans(n_clusters=10, random_state=99)</pre><b>In a Jupyter environment, please rerun this cell to show the HTML representation or trust the notebook. <br />On GitHub, the HTML representation is unable to render, please try loading this page with nbviewer.org.</b></div><div class=\"sk-container\" hidden><div class=\"sk-item\"><div class=\"sk-estimator sk-toggleable\"><input class=\"sk-toggleable__control sk-hidden--visually\" id=\"sk-estimator-id-1\" type=\"checkbox\" checked><label for=\"sk-estimator-id-1\" class=\"sk-toggleable__label sk-toggleable__label-arrow\">KMeans</label><div class=\"sk-toggleable__content\"><pre>KMeans(n_clusters=10, random_state=99)</pre></div></div></div></div></div>"
            ]
          },
          "metadata": {},
          "execution_count": 15
        }
      ]
    },
    {
      "cell_type": "code",
      "source": [
        "labels_tf = model_tf.labels_\n",
        "cluster_center_tf = model_tf.cluster_centers_\n",
        "labels_tf"
      ],
      "metadata": {
        "id": "tTfcv7AxZEMQ",
        "colab": {
          "base_uri": "https://localhost:8080/"
        },
        "outputId": "a7f1cba8-7232-41f4-927e-487818b4156e"
      },
      "execution_count": null,
      "outputs": [
        {
          "output_type": "execute_result",
          "data": {
            "text/plain": [
              "array([1, 9, 1, 0, 0, 2, 1, 3, 7, 3, 9, 9, 9, 1, 9, 9, 9, 5, 7, 0, 7, 7,\n",
              "       7, 1, 8, 6, 6, 6, 7, 6, 8, 8, 6, 6, 8, 6, 6, 8, 6, 6, 6, 6, 8, 2,\n",
              "       0, 8, 6, 0, 6, 8, 6, 2, 2, 6, 6, 6, 2, 8, 6, 6, 8, 6, 1, 6, 1, 6,\n",
              "       6, 6, 8, 8, 6, 8, 6, 6, 6, 1, 8, 8, 6, 6, 6, 6, 8, 2, 6, 8, 8, 6,\n",
              "       1, 6, 8, 6, 6, 6, 8, 4, 6, 2, 6, 8, 0, 7, 7, 0, 0, 2, 2, 1, 2, 2,\n",
              "       7, 9, 7, 7, 3, 1, 4, 1, 1, 1, 1, 3, 1, 1, 1, 7, 4, 4, 4, 2, 4, 4,\n",
              "       4, 4, 4, 4, 7, 4, 4, 4, 4, 8, 7, 1, 1, 0, 2, 0, 1, 1, 1, 7, 7, 9,\n",
              "       9, 1, 7, 9, 7, 7, 7, 9, 9, 0, 9, 9, 9, 7, 9, 9, 9, 9, 9, 9, 9, 9,\n",
              "       9, 9, 7, 1, 8, 1, 2, 6, 9, 2, 7, 2, 7, 2, 7, 3, 1, 2, 1, 0, 1, 2,\n",
              "       4, 1, 4, 2, 7, 4, 0, 4, 4, 4, 4, 4, 3, 7, 1, 2, 5, 5, 5, 5, 5, 5,\n",
              "       5, 5, 5, 5, 5, 5, 5, 5, 8, 5, 0, 3, 3, 7, 2, 2, 0, 2, 7, 8, 7, 0,\n",
              "       7, 7, 7, 7, 7, 2, 2, 0, 7, 8, 2, 1, 1, 1, 1, 1, 2, 1, 2, 7, 2, 7,\n",
              "       3, 7, 1, 7, 0, 1, 0, 7, 4, 4, 1, 1, 1, 8, 1, 3, 7, 3, 3, 1, 3, 3,\n",
              "       2, 2, 7, 7, 3, 5, 3, 3, 3, 3, 3, 3, 6, 1, 0, 1, 2, 8, 7, 2, 7, 8,\n",
              "       7, 0, 7, 3, 7, 7, 7, 7, 8, 8, 7, 2, 4, 7, 7, 7, 1, 3, 3, 3, 1, 1,\n",
              "       2, 3, 3, 3, 3, 3, 3, 8, 1, 1, 7, 1, 8, 8, 7, 7, 8, 8, 7, 0, 5, 5,\n",
              "       5, 5, 5, 7, 7, 7, 7, 2, 3, 1, 1, 7, 2, 1, 1, 0, 0, 8, 9, 9, 9, 9,\n",
              "       9, 9, 9, 8, 9, 5, 5, 7, 1, 3, 7, 3, 2, 7, 7, 8, 1, 1, 8, 8, 0, 3,\n",
              "       1, 4, 1, 1, 1, 1, 3, 8, 8, 8, 7, 3, 3, 3, 8, 3, 4, 0, 2, 0, 1, 3,\n",
              "       3, 0, 0, 3, 3, 3, 1, 0, 4, 7, 7, 2, 7, 7, 0, 1, 7, 2, 0, 2, 7, 3,\n",
              "       7, 3, 3, 3, 1, 1, 1, 7, 7, 0, 0, 7, 7, 1, 1, 7, 1, 1, 1, 7, 2, 7,\n",
              "       7, 1, 5, 1, 7, 1, 2, 8, 7, 1, 1, 7, 1, 8, 0, 1, 7, 8, 1, 7, 7, 1,\n",
              "       7, 7, 7, 4, 7, 1, 0, 7, 3, 7, 8, 2, 5, 7], dtype=int32)"
            ]
          },
          "metadata": {},
          "execution_count": 31
        }
      ]
    },
    {
      "cell_type": "code",
      "source": [
        "cluster_center_tf\n"
      ],
      "metadata": {
        "id": "BkVpfuefZMhV",
        "colab": {
          "base_uri": "https://localhost:8080/"
        },
        "outputId": "1bf35957-61a9-4205-c3c9-0fc64c46f984"
      },
      "execution_count": null,
      "outputs": [
        {
          "output_type": "execute_result",
          "data": {
            "text/plain": [
              "array([[0.        , 0.        , 0.        , ..., 0.        , 0.        ,\n",
              "        0.        ],\n",
              "       [0.        , 0.        , 0.        , ..., 0.        , 0.00375627,\n",
              "        0.        ],\n",
              "       [0.        , 0.00729866, 0.        , ..., 0.        , 0.        ,\n",
              "        0.        ],\n",
              "       ...,\n",
              "       [0.00086748, 0.00549877, 0.00093019, ..., 0.        , 0.        ,\n",
              "        0.        ],\n",
              "       [0.        , 0.        , 0.        , ..., 0.        , 0.00470011,\n",
              "        0.        ],\n",
              "       [0.        , 0.        , 0.00295798, ..., 0.        , 0.        ,\n",
              "        0.00809952]])"
            ]
          },
          "metadata": {},
          "execution_count": 32
        }
      ]
    },
    {
      "cell_type": "code",
      "source": [
        "term = tfidf_vect.get_feature_names_out()"
      ],
      "metadata": {
        "id": "P83IZp_eKT3X"
      },
      "execution_count": null,
      "outputs": []
    },
    {
      "cell_type": "code",
      "source": [
        "term[10:100]\n",
        "term.shape"
      ],
      "metadata": {
        "id": "qG_xOE23LCh6",
        "colab": {
          "base_uri": "https://localhost:8080/"
        },
        "outputId": "cd0d9e0e-5f38-4e8e-c663-9e518f07c678"
      },
      "execution_count": null,
      "outputs": [
        {
          "output_type": "execute_result",
          "data": {
            "text/plain": [
              "(2763,)"
            ]
          },
          "metadata": {},
          "execution_count": 21
        }
      ]
    },
    {
      "cell_type": "code",
      "source": [
        "#Model evaluation\n",
        "from sklearn import metrics\n",
        "silhouette_score_tf = metrics.silhouette_score(tfidf, labels_tf, metric='euclidean')\n",
        "\n",
        "silhouette_score_tf"
      ],
      "metadata": {
        "id": "iIzmKn4dZQCo",
        "colab": {
          "base_uri": "https://localhost:8080/"
        },
        "outputId": "1a425423-6e7d-4b78-9d2a-aa73a9464c17"
      },
      "execution_count": null,
      "outputs": [
        {
          "output_type": "execute_result",
          "data": {
            "text/plain": [
              "0.012393010418607377"
            ]
          },
          "metadata": {},
          "execution_count": 12
        }
      ]
    },
    {
      "cell_type": "code",
      "source": [
        "df = final\n",
        "df['Tfidf Clus Label'] = model_tf.labels_\n",
        "df.head()"
      ],
      "metadata": {
        "id": "6I3EolNxOkd-",
        "colab": {
          "base_uri": "https://localhost:8080/",
          "height": 553
        },
        "outputId": "03406e4c-5feb-4d43-b776-1322ad8e1315"
      },
      "execution_count": null,
      "outputs": [
        {
          "output_type": "stream",
          "name": "stderr",
          "text": [
            "<ipython-input-13-b74473644fdc>:2: SettingWithCopyWarning: \n",
            "A value is trying to be set on a copy of a slice from a DataFrame.\n",
            "Try using .loc[row_indexer,col_indexer] = value instead\n",
            "\n",
            "See the caveats in the documentation: https://pandas.pydata.org/pandas-docs/stable/user_guide/indexing.html#returning-a-view-versus-a-copy\n",
            "  df['Tfidf Clus Label'] = model_tf.labels_\n"
          ]
        },
        {
          "output_type": "execute_result",
          "data": {
            "text/plain": [
              "      Id   ProductId          UserId                  ProfileName  \\\n",
              "10    11  B0001PB9FE  A3HDKO7OW0QNK4                 Canadian Fan   \n",
              "252  253  B0002567IW  A1SSKFPX72MSMR  Janna M. Sicard \"missjanna\"   \n",
              "187  188  B00029XIZI  A2S72TUJDQUBMH                        Nadia   \n",
              "412  413  B00061KYVI  A3JE18D4XD2PYF                    pattymelt   \n",
              "411  412  B00061KYVI  A28RMYGO9RGA0K                      marilyn   \n",
              "\n",
              "     HelpfulnessNumerator  HelpfulnessDenominator     Score        Time  \\\n",
              "10                      1                       1  positive  1107820800   \n",
              "252                     0                       0  negative  1344556800   \n",
              "187                     0                       0  positive  1236124800   \n",
              "412                     0                       0  positive  1282521600   \n",
              "411                     0                       0  positive  1328140800   \n",
              "\n",
              "                             Summary  \\\n",
              "10   The Best Hot Sauce in the World   \n",
              "252                      Sad outcome   \n",
              "187                          Miracle   \n",
              "412                  best roast ever   \n",
              "411            french's roast'n bags   \n",
              "\n",
              "                                                  Text  \\\n",
              "10   I don't know if it's the cactus or the tequila...   \n",
              "252  Five minutes in, one tentacle was bitten off, ...   \n",
              "187  My Scotties were full of hot spots and when I ...   \n",
              "412  This is the best way to cook a roast.  Our loc...   \n",
              "411  i love this product cant find it locally. Some...   \n",
              "\n",
              "                                           CleanedText  Tfidf Clus Label  \n",
              "10   dont know cactus tequila uniqu combin ingredi ...                 1  \n",
              "252  five minut one tentacl bitten ball insid crack...                 9  \n",
              "187  scotti full hot spot use within week hot spot ...                 1  \n",
              "412  best way cook roast local groceri went buis co...                 0  \n",
              "411  love product cant find local sometim littl way...                 0  "
            ],
            "text/html": [
              "\n",
              "  <div id=\"df-12437b6f-200a-49f6-a245-a28bd3b53df0\" class=\"colab-df-container\">\n",
              "    <div>\n",
              "<style scoped>\n",
              "    .dataframe tbody tr th:only-of-type {\n",
              "        vertical-align: middle;\n",
              "    }\n",
              "\n",
              "    .dataframe tbody tr th {\n",
              "        vertical-align: top;\n",
              "    }\n",
              "\n",
              "    .dataframe thead th {\n",
              "        text-align: right;\n",
              "    }\n",
              "</style>\n",
              "<table border=\"1\" class=\"dataframe\">\n",
              "  <thead>\n",
              "    <tr style=\"text-align: right;\">\n",
              "      <th></th>\n",
              "      <th>Id</th>\n",
              "      <th>ProductId</th>\n",
              "      <th>UserId</th>\n",
              "      <th>ProfileName</th>\n",
              "      <th>HelpfulnessNumerator</th>\n",
              "      <th>HelpfulnessDenominator</th>\n",
              "      <th>Score</th>\n",
              "      <th>Time</th>\n",
              "      <th>Summary</th>\n",
              "      <th>Text</th>\n",
              "      <th>CleanedText</th>\n",
              "      <th>Tfidf Clus Label</th>\n",
              "    </tr>\n",
              "  </thead>\n",
              "  <tbody>\n",
              "    <tr>\n",
              "      <th>10</th>\n",
              "      <td>11</td>\n",
              "      <td>B0001PB9FE</td>\n",
              "      <td>A3HDKO7OW0QNK4</td>\n",
              "      <td>Canadian Fan</td>\n",
              "      <td>1</td>\n",
              "      <td>1</td>\n",
              "      <td>positive</td>\n",
              "      <td>1107820800</td>\n",
              "      <td>The Best Hot Sauce in the World</td>\n",
              "      <td>I don't know if it's the cactus or the tequila...</td>\n",
              "      <td>dont know cactus tequila uniqu combin ingredi ...</td>\n",
              "      <td>1</td>\n",
              "    </tr>\n",
              "    <tr>\n",
              "      <th>252</th>\n",
              "      <td>253</td>\n",
              "      <td>B0002567IW</td>\n",
              "      <td>A1SSKFPX72MSMR</td>\n",
              "      <td>Janna M. Sicard \"missjanna\"</td>\n",
              "      <td>0</td>\n",
              "      <td>0</td>\n",
              "      <td>negative</td>\n",
              "      <td>1344556800</td>\n",
              "      <td>Sad outcome</td>\n",
              "      <td>Five minutes in, one tentacle was bitten off, ...</td>\n",
              "      <td>five minut one tentacl bitten ball insid crack...</td>\n",
              "      <td>9</td>\n",
              "    </tr>\n",
              "    <tr>\n",
              "      <th>187</th>\n",
              "      <td>188</td>\n",
              "      <td>B00029XIZI</td>\n",
              "      <td>A2S72TUJDQUBMH</td>\n",
              "      <td>Nadia</td>\n",
              "      <td>0</td>\n",
              "      <td>0</td>\n",
              "      <td>positive</td>\n",
              "      <td>1236124800</td>\n",
              "      <td>Miracle</td>\n",
              "      <td>My Scotties were full of hot spots and when I ...</td>\n",
              "      <td>scotti full hot spot use within week hot spot ...</td>\n",
              "      <td>1</td>\n",
              "    </tr>\n",
              "    <tr>\n",
              "      <th>412</th>\n",
              "      <td>413</td>\n",
              "      <td>B00061KYVI</td>\n",
              "      <td>A3JE18D4XD2PYF</td>\n",
              "      <td>pattymelt</td>\n",
              "      <td>0</td>\n",
              "      <td>0</td>\n",
              "      <td>positive</td>\n",
              "      <td>1282521600</td>\n",
              "      <td>best roast ever</td>\n",
              "      <td>This is the best way to cook a roast.  Our loc...</td>\n",
              "      <td>best way cook roast local groceri went buis co...</td>\n",
              "      <td>0</td>\n",
              "    </tr>\n",
              "    <tr>\n",
              "      <th>411</th>\n",
              "      <td>412</td>\n",
              "      <td>B00061KYVI</td>\n",
              "      <td>A28RMYGO9RGA0K</td>\n",
              "      <td>marilyn</td>\n",
              "      <td>0</td>\n",
              "      <td>0</td>\n",
              "      <td>positive</td>\n",
              "      <td>1328140800</td>\n",
              "      <td>french's roast'n bags</td>\n",
              "      <td>i love this product cant find it locally. Some...</td>\n",
              "      <td>love product cant find local sometim littl way...</td>\n",
              "      <td>0</td>\n",
              "    </tr>\n",
              "  </tbody>\n",
              "</table>\n",
              "</div>\n",
              "    <div class=\"colab-df-buttons\">\n",
              "\n",
              "  <div class=\"colab-df-container\">\n",
              "    <button class=\"colab-df-convert\" onclick=\"convertToInteractive('df-12437b6f-200a-49f6-a245-a28bd3b53df0')\"\n",
              "            title=\"Convert this dataframe to an interactive table.\"\n",
              "            style=\"display:none;\">\n",
              "\n",
              "  <svg xmlns=\"http://www.w3.org/2000/svg\" height=\"24px\" viewBox=\"0 -960 960 960\">\n",
              "    <path d=\"M120-120v-720h720v720H120Zm60-500h600v-160H180v160Zm220 220h160v-160H400v160Zm0 220h160v-160H400v160ZM180-400h160v-160H180v160Zm440 0h160v-160H620v160ZM180-180h160v-160H180v160Zm440 0h160v-160H620v160Z\"/>\n",
              "  </svg>\n",
              "    </button>\n",
              "\n",
              "  <style>\n",
              "    .colab-df-container {\n",
              "      display:flex;\n",
              "      gap: 12px;\n",
              "    }\n",
              "\n",
              "    .colab-df-convert {\n",
              "      background-color: #E8F0FE;\n",
              "      border: none;\n",
              "      border-radius: 50%;\n",
              "      cursor: pointer;\n",
              "      display: none;\n",
              "      fill: #1967D2;\n",
              "      height: 32px;\n",
              "      padding: 0 0 0 0;\n",
              "      width: 32px;\n",
              "    }\n",
              "\n",
              "    .colab-df-convert:hover {\n",
              "      background-color: #E2EBFA;\n",
              "      box-shadow: 0px 1px 2px rgba(60, 64, 67, 0.3), 0px 1px 3px 1px rgba(60, 64, 67, 0.15);\n",
              "      fill: #174EA6;\n",
              "    }\n",
              "\n",
              "    .colab-df-buttons div {\n",
              "      margin-bottom: 4px;\n",
              "    }\n",
              "\n",
              "    [theme=dark] .colab-df-convert {\n",
              "      background-color: #3B4455;\n",
              "      fill: #D2E3FC;\n",
              "    }\n",
              "\n",
              "    [theme=dark] .colab-df-convert:hover {\n",
              "      background-color: #434B5C;\n",
              "      box-shadow: 0px 1px 3px 1px rgba(0, 0, 0, 0.15);\n",
              "      filter: drop-shadow(0px 1px 2px rgba(0, 0, 0, 0.3));\n",
              "      fill: #FFFFFF;\n",
              "    }\n",
              "  </style>\n",
              "\n",
              "    <script>\n",
              "      const buttonEl =\n",
              "        document.querySelector('#df-12437b6f-200a-49f6-a245-a28bd3b53df0 button.colab-df-convert');\n",
              "      buttonEl.style.display =\n",
              "        google.colab.kernel.accessAllowed ? 'block' : 'none';\n",
              "\n",
              "      async function convertToInteractive(key) {\n",
              "        const element = document.querySelector('#df-12437b6f-200a-49f6-a245-a28bd3b53df0');\n",
              "        const dataTable =\n",
              "          await google.colab.kernel.invokeFunction('convertToInteractive',\n",
              "                                                    [key], {});\n",
              "        if (!dataTable) return;\n",
              "\n",
              "        const docLinkHtml = 'Like what you see? Visit the ' +\n",
              "          '<a target=\"_blank\" href=https://colab.research.google.com/notebooks/data_table.ipynb>data table notebook</a>'\n",
              "          + ' to learn more about interactive tables.';\n",
              "        element.innerHTML = '';\n",
              "        dataTable['output_type'] = 'display_data';\n",
              "        await google.colab.output.renderOutput(dataTable, element);\n",
              "        const docLink = document.createElement('div');\n",
              "        docLink.innerHTML = docLinkHtml;\n",
              "        element.appendChild(docLink);\n",
              "      }\n",
              "    </script>\n",
              "  </div>\n",
              "\n",
              "\n",
              "<div id=\"df-ae41c917-7f2c-44fe-a321-797b4c7502d7\">\n",
              "  <button class=\"colab-df-quickchart\" onclick=\"quickchart('df-ae41c917-7f2c-44fe-a321-797b4c7502d7')\"\n",
              "            title=\"Suggest charts\"\n",
              "            style=\"display:none;\">\n",
              "\n",
              "<svg xmlns=\"http://www.w3.org/2000/svg\" height=\"24px\"viewBox=\"0 0 24 24\"\n",
              "     width=\"24px\">\n",
              "    <g>\n",
              "        <path d=\"M19 3H5c-1.1 0-2 .9-2 2v14c0 1.1.9 2 2 2h14c1.1 0 2-.9 2-2V5c0-1.1-.9-2-2-2zM9 17H7v-7h2v7zm4 0h-2V7h2v10zm4 0h-2v-4h2v4z\"/>\n",
              "    </g>\n",
              "</svg>\n",
              "  </button>\n",
              "\n",
              "<style>\n",
              "  .colab-df-quickchart {\n",
              "      --bg-color: #E8F0FE;\n",
              "      --fill-color: #1967D2;\n",
              "      --hover-bg-color: #E2EBFA;\n",
              "      --hover-fill-color: #174EA6;\n",
              "      --disabled-fill-color: #AAA;\n",
              "      --disabled-bg-color: #DDD;\n",
              "  }\n",
              "\n",
              "  [theme=dark] .colab-df-quickchart {\n",
              "      --bg-color: #3B4455;\n",
              "      --fill-color: #D2E3FC;\n",
              "      --hover-bg-color: #434B5C;\n",
              "      --hover-fill-color: #FFFFFF;\n",
              "      --disabled-bg-color: #3B4455;\n",
              "      --disabled-fill-color: #666;\n",
              "  }\n",
              "\n",
              "  .colab-df-quickchart {\n",
              "    background-color: var(--bg-color);\n",
              "    border: none;\n",
              "    border-radius: 50%;\n",
              "    cursor: pointer;\n",
              "    display: none;\n",
              "    fill: var(--fill-color);\n",
              "    height: 32px;\n",
              "    padding: 0;\n",
              "    width: 32px;\n",
              "  }\n",
              "\n",
              "  .colab-df-quickchart:hover {\n",
              "    background-color: var(--hover-bg-color);\n",
              "    box-shadow: 0 1px 2px rgba(60, 64, 67, 0.3), 0 1px 3px 1px rgba(60, 64, 67, 0.15);\n",
              "    fill: var(--button-hover-fill-color);\n",
              "  }\n",
              "\n",
              "  .colab-df-quickchart-complete:disabled,\n",
              "  .colab-df-quickchart-complete:disabled:hover {\n",
              "    background-color: var(--disabled-bg-color);\n",
              "    fill: var(--disabled-fill-color);\n",
              "    box-shadow: none;\n",
              "  }\n",
              "\n",
              "  .colab-df-spinner {\n",
              "    border: 2px solid var(--fill-color);\n",
              "    border-color: transparent;\n",
              "    border-bottom-color: var(--fill-color);\n",
              "    animation:\n",
              "      spin 1s steps(1) infinite;\n",
              "  }\n",
              "\n",
              "  @keyframes spin {\n",
              "    0% {\n",
              "      border-color: transparent;\n",
              "      border-bottom-color: var(--fill-color);\n",
              "      border-left-color: var(--fill-color);\n",
              "    }\n",
              "    20% {\n",
              "      border-color: transparent;\n",
              "      border-left-color: var(--fill-color);\n",
              "      border-top-color: var(--fill-color);\n",
              "    }\n",
              "    30% {\n",
              "      border-color: transparent;\n",
              "      border-left-color: var(--fill-color);\n",
              "      border-top-color: var(--fill-color);\n",
              "      border-right-color: var(--fill-color);\n",
              "    }\n",
              "    40% {\n",
              "      border-color: transparent;\n",
              "      border-right-color: var(--fill-color);\n",
              "      border-top-color: var(--fill-color);\n",
              "    }\n",
              "    60% {\n",
              "      border-color: transparent;\n",
              "      border-right-color: var(--fill-color);\n",
              "    }\n",
              "    80% {\n",
              "      border-color: transparent;\n",
              "      border-right-color: var(--fill-color);\n",
              "      border-bottom-color: var(--fill-color);\n",
              "    }\n",
              "    90% {\n",
              "      border-color: transparent;\n",
              "      border-bottom-color: var(--fill-color);\n",
              "    }\n",
              "  }\n",
              "</style>\n",
              "\n",
              "  <script>\n",
              "    async function quickchart(key) {\n",
              "      const quickchartButtonEl =\n",
              "        document.querySelector('#' + key + ' button');\n",
              "      quickchartButtonEl.disabled = true;  // To prevent multiple clicks.\n",
              "      quickchartButtonEl.classList.add('colab-df-spinner');\n",
              "      try {\n",
              "        const charts = await google.colab.kernel.invokeFunction(\n",
              "            'suggestCharts', [key], {});\n",
              "      } catch (error) {\n",
              "        console.error('Error during call to suggestCharts:', error);\n",
              "      }\n",
              "      quickchartButtonEl.classList.remove('colab-df-spinner');\n",
              "      quickchartButtonEl.classList.add('colab-df-quickchart-complete');\n",
              "    }\n",
              "    (() => {\n",
              "      let quickchartButtonEl =\n",
              "        document.querySelector('#df-ae41c917-7f2c-44fe-a321-797b4c7502d7 button');\n",
              "      quickchartButtonEl.style.display =\n",
              "        google.colab.kernel.accessAllowed ? 'block' : 'none';\n",
              "    })();\n",
              "  </script>\n",
              "</div>\n",
              "    </div>\n",
              "  </div>\n"
            ]
          },
          "metadata": {},
          "execution_count": 13
        }
      ]
    },
    {
      "cell_type": "code",
      "source": [
        "df.groupby(['Tfidf Clus Label'])['Text'].count()"
      ],
      "metadata": {
        "id": "Do39Y-b-UFXQ",
        "colab": {
          "base_uri": "https://localhost:8080/"
        },
        "outputId": "95424da6-6ddc-4552-e404-a273fd662be4"
      },
      "execution_count": null,
      "outputs": [
        {
          "output_type": "execute_result",
          "data": {
            "text/plain": [
              "Tfidf Clus Label\n",
              "0    36\n",
              "1    85\n",
              "2    46\n",
              "3    50\n",
              "4    30\n",
              "5    26\n",
              "6    43\n",
              "7    98\n",
              "8    49\n",
              "9    35\n",
              "Name: Text, dtype: int64"
            ]
          },
          "metadata": {},
          "execution_count": 14
        }
      ]
    },
    {
      "cell_type": "code",
      "source": [
        "print(\"Top terms per cluster:\")\n",
        "order_centroids = model_tf.cluster_centers_.argsort()[:, ::-1]\n",
        "for i in range(10):\n",
        "    print(\"Cluster %d:\" % i, end='')\n",
        "    for ind in order_centroids[i, :10]:\n",
        "        print(' %s' % term[ind], end='')\n",
        "        print()"
      ],
      "metadata": {
        "id": "4XLgbdD3Umdu",
        "colab": {
          "base_uri": "https://localhost:8080/"
        },
        "outputId": "cfe910b9-a49f-48d6-83f4-d65ea5b6563e"
      },
      "execution_count": null,
      "outputs": [
        {
          "output_type": "stream",
          "name": "stdout",
          "text": [
            "Top terms per cluster:\n",
            "Cluster 0: store\n",
            " groceri\n",
            " local\n",
            " fast\n",
            " deliveri\n",
            " price\n",
            " product\n",
            " find\n",
            " deal\n",
            " good\n",
            "Cluster 1: tast\n",
            " good\n",
            " order\n",
            " flavor\n",
            " hot\n",
            " love\n",
            " great\n",
            " got\n",
            " brand\n",
            " ive\n",
            "Cluster 2: bag\n",
            " product\n",
            " great\n",
            " save\n",
            " get\n",
            " amazon\n",
            " love\n",
            " price\n",
            " eat\n",
            " use\n",
            "Cluster 3: coffe\n",
            " energi\n",
            " drink\n",
            " one\n",
            " shot\n",
            " tast\n",
            " tri\n",
            " blend\n",
            " bean\n",
            " cup\n",
            "Cluster 4: sugar\n",
            " better\n",
            " oatmeal\n",
            " raw\n",
            " instant\n",
            " regular\n",
            " much\n",
            " use\n",
            " brown\n",
            " mccann\n",
            "Cluster 5: tea\n",
            " drink\n",
            " ahmad\n",
            " one\n",
            " tast\n",
            " tri\n",
            " year\n",
            " herbal\n",
            " sweet\n",
            " qualiti\n",
            "Cluster 6: chip\n",
            " flavor\n",
            " bag\n",
            " kettl\n",
            " potato\n",
            " spici\n",
            " like\n",
            " love\n",
            " brand\n",
            " eat\n",
            "Cluster 7: use\n",
            " like\n",
            " product\n",
            " love\n",
            " mint\n",
            " great\n",
            " ship\n",
            " candi\n",
            " price\n",
            " one\n",
            "Cluster 8: chip\n",
            " salt\n",
            " flavor\n",
            " vinegar\n",
            " buy\n",
            " favorit\n",
            " best\n",
            " tri\n",
            " kettl\n",
            " good\n",
            "Cluster 9: food\n",
            " dog\n",
            " cat\n",
            " eat\n",
            " allergi\n",
            " balanc\n",
            " feed\n",
            " dri\n",
            " natur\n",
            " one\n"
          ]
        }
      ]
    },
    {
      "cell_type": "code",
      "source": [
        "for i in range(10):\n",
        "    print(\"3 review of assigned to cluster \", i)\n",
        "    print(\"-\" * 70)\n",
        "    print(df.iloc[df.groupby(['Tfidf Clus Label']).groups[i][5]]['Text'])\n",
        "    print('\\n')\n",
        "    print(df.iloc[df.groupby(['Tfidf Clus Label']).groups[i][10]]['Text'])\n",
        "    print('\\n')\n",
        "    print(df.iloc[df.groupby(['Tfidf Clus Label']).groups[i][15]]['Text'])\n",
        "    print('\\n')\n",
        "    print(\"_\" * 70)\n"
      ],
      "metadata": {
        "id": "qzwVftEHmn17",
        "colab": {
          "base_uri": "https://localhost:8080/"
        },
        "outputId": "af3e6d1b-f298-42a0-99c1-84b6894bffe7"
      },
      "execution_count": null,
      "outputs": [
        {
          "output_type": "stream",
          "name": "stdout",
          "text": [
            "4 review of assigned to cluster  0\n",
            "----------------------------------------------------------------------\n",
            "Buyer Beware Please! This sweetener is not for everybody.  Maltitol is an alcohol sugar and can be undigestible in the body.  You will know a short time after consuming it if you are one of the unsuspecting many who cannot digest it by the extreme intestinal bloating and cramping and massive amounts of gas a person can experience. Nausea, diarrhea & headaches can also be experienced. I learned my lesson the hard way years ago when I fell in love with the sugar-free chocolates suzanne sommers used to sell.  I thought I'd found sugar-free chocolate nirvana at first taste but the bliss was short lived when the terrible side effects of maltitol kicked in.  The discomfort was unlike anything I had ever felt before.  I blew up like a balloon and had very painful abdominal cramping.  As the symptoms passed, this too was very unpleasant.  Though hard for me to believe a low calorie sweetener could be the culprit, all symptoms were gone when I stopped eating the chocolate. My hunch it had something to do with the maltitol were unfortunately confirmed for me about a year later when I purchased some delicious sugar-free popcorn at my local market.  The taste was amazing and while I was looking at the label wondering what could possibly make this yummy, new sugarfree treat taste so good, my heart sank when I followed the little asterisk next to sugarfree sweetener* down to the very bottom of the label and read \"maltitol\" in tiny little letters! Thank goodness I'd eaten only a little. I still ended up with all the same side-effects but for a much shorter duration. Some people can use maltitol to their heart's content but others, like me, can have a bad reaction to it. In case you're like me, ... it's not you ...it's the maltitol!\n",
            "\n",
            "\n",
            "These are by far my favorite chips, they are extremely crunchy (similar to other Kettle style chips), but it's the extreme Vinegar flavor that differentiates these from lesser fried potato snacks.  I've tried several other brands of Salt and Vinegar and none of them come close.\n",
            "\n",
            "\n",
            "A friend of mine brought these into work with the claim , \"these will change your life!\"  While my life is fairly unchanged, I cannot get enough of these chips . . . . and I do not even like kettle chips.  For the most part, I find Kettle Chips to be too thick and greasy, but the flavor of these chips is amazing!  The are the type of hot that is refreshing.  If you do not enjoy spicy or hot things . . . try these anyway, they may convert you.\n",
            "\n",
            "\n",
            "______________________________________________________________________\n",
            "4 review of assigned to cluster  1\n",
            "----------------------------------------------------------------------\n",
            "WOW!  This product is very impressive. I bought the 8oz blueberry and was pleased with packaging, price and shipping.  The powder dissolves instantly.  Even in water!  I've just been mixing a 1/4 tsp in a small glass of water for now and drinking it down and it tastes great!, but will add it to my smoothies and juiced fruit juices next. This product is so economical compared to purchasing fresh blueberries, especially because there is no waste due to mold or overripe berries thrown away.  I think you could add this to baked or unbaked foods as well.  I'm excited to add more of the SuperFoods to my diet in this fast and easy way. I definitely will being trying the other flavors soon.\n",
            "\n",
            "\n",
            "The SALSA smelled delicious, as I think it probably was - but, unfortunately, the person, at AMAZON, that is a packer (there is probably several) had very little \"stuffing\" to work with, especially on the bottoms.  Therefore, the bottoms were broken on all three bottles. As I reached for my computer; I was told NO RETURNS (cause it's a food item).  I then looked for a CUSTOMER SERVICE tag; and I found \"none\" on their NEW FACE LIFT.  THEY SEEM TO BE PROUD OF THEIR NEW FACE LIFT BUT...THEY SHOULD AT LEAST HAVE A PLACE TO CONTACT THEM IN EMERGENCIES!  LIKE: I BUY A LOT OF \"STUFF\" AND IT ALL COMES IN STYROFOAM BOXES.  NEVER WOULD I SHIP THINGS<br />ESPECIALLY SALSA - IN A CARDBOARD BOX WITH JUST A STRIPE OF LARGE BUBBLE WRAP ON IT.  NO MATTER HOW MUCH THE CARRIER (FED EX) IS CAREFUL, IT'S GOING TO BREAK SOMEWHERE ALONG THE LINE.  ESPECIALLY IN AN ALL GLASS CONTAINER!  BARBARA L. S.\n",
            "\n",
            "\n",
            "Popchips are so good.  I have been following Weight Watchers and lost 50 pounds and am at my goal.  These Popchips are my salty crunchy indulgence.  They taste so  good,\n",
            "\n",
            "\n",
            "______________________________________________________________________\n",
            "4 review of assigned to cluster  2\n",
            "----------------------------------------------------------------------\n",
            "I purchased the Mango flavor, and to me it doesn't take like Mango at all.  There is no hint of sweetness, and unfortunately there is a hint or aftertaste almost like licorice.  I've been consuming various sports nutrition products for decades, so I'm familiar and have come to like the taste of the most of the products I've tried.  The mango flavor is one of the least appealing I've tasted.  It's not terrible, but it's bad enough that I notice the bad taste every sip I take.\n",
            "\n",
            "\n",
            "Don't buy just a few of these!  I order these by the case.  I can't even remember the first time I tasted an anchovy stuffed olive but I have tried several of the brands online and this brand is my favorite.\n",
            "\n",
            "\n",
            "The tomatoes are the star of the classic flavor.  It is clean and really fresh!  Perfect on an avocado chicken sandwich.<br /><br />The spicy flavor is more complex and is the best ketchup I have ever tried.  It is so good I have now used it on foods that would make me seem crazy!\n",
            "\n",
            "\n",
            "______________________________________________________________________\n",
            "4 review of assigned to cluster  3\n",
            "----------------------------------------------------------------------\n",
            "Kettle Chips Spicy Thai potato chips have the perfect amount of sweet, savory and spicy-- everything you'd want in a good meal or better yet...a potato chip.  Since these are kettle-cooked, the chips are uniquely shaped and are sometimes a bit over-browned.  They are, however, sliced just perfectly, not too thick, not too thin, so you can actually get a great crunch with each bite without breaking a tooth off.  The flavor is tremendous, although I wouldn't describe it as Thai.  It's more of a vague, sweet and tangy flavor with a kick, and every now and then you get a great big hit of ginger.  If you like any spice at all, these really are not overly spicy, so most people can handle them.  The fact that these chips have absolutely no artificial ingredients or trans fat makes them a fabulous addition to any muncher's snack cupboard.\n",
            "\n",
            "\n",
            "I was looking for a natural energy shot that works, and I found it. Steaz energy shot is my favorite!<br /><br />I recently had gastric bypass surgery, so tons of sugar is a no-no. And I'm also allergic to Sucralose (Splenda) so most other energy drinks are out.<br /><br />I tried Bazi energy shots and they didn't work as well as Steaz, and definitely didn't taste as well. These have a taste that's almost like Coca-Cola--not bad at all.<br /><br />If you're looking for natural energy, give these a try.\n",
            "\n",
            "\n",
            "I have tried other energy shots and this one is the only one that really makes me feel good and energized without any other sides effects at all, its also the best taste, others taste like medicine, this one has a tea fresh taste. I love it.\n",
            "\n",
            "\n",
            "______________________________________________________________________\n",
            "4 review of assigned to cluster  4\n",
            "----------------------------------------------------------------------\n",
            "I ordered this product at the same time as the Kirkland Signature salmon.  The Raincoast Trading Co. salmon is very tasty, equally as good quality salmon as the Kirkland.  However, the Raincoast arrived in perfect condition, the Kirkland cans were dented badly.  I recommend this product to anyone who likes boneless skinless canned salmon.\n",
            "\n",
            "\n",
            "I love asparagus.  Up until very recently, I had never had pickled asparagus.  Oh my goodness, when a friend introduced me to this exact brand, I couldn't believe how great stuff tasted.  I loved it so much I bought the six pack.  I've got 2 jars left.  Gonna need more!!\n",
            "\n",
            "\n",
            "After buying bags one at a time (at a hefty markup) at nearby stores, I decided to try bulk ordering some snack foods on Amazon. I was very pleased with the price and the products.<br /><br />These jalapeno kettle chips are not overly spicy; they have a slow-building spice that starts very subtly a grows if you eat the whole bag, which I'm embarrassed to say I did quite a few times.<br /><br />The chips arrived well-packed and fresh. They had nearly a year of time before they expired, which is pretty impressive for chips.<br /><br />Most importantly, the price-per-bag was much, MUCH better than any local store could do, although I live near an expensive city, so that may play a role in the price difference.<br /><br />I wouldn't hesitate to order another box of these once I run out.\n",
            "\n",
            "\n",
            "______________________________________________________________________\n",
            "4 review of assigned to cluster  5\n",
            "----------------------------------------------------------------------\n",
            "Herbal additives in this blend destroy real tea taste. It is only for people who like herbal taste. I don't.\n",
            "\n",
            "\n",
            "I have lived out of the US for over 7 yrs now, and I so miss my Twizzlers!!  When I go back to visit or someone visits me, I always stock up.  All I can say is YUM!<br />Sell these in Mexico and you will have a faithful buyer, more often than I'm able to buy them right now.\n",
            "\n",
            "\n",
            "fantastic!you can not beat this taste and you can not resist to it only one if you are spice lover\n",
            "\n",
            "\n",
            "______________________________________________________________________\n",
            "4 review of assigned to cluster  6\n",
            "----------------------------------------------------------------------\n",
            "Like the other people mentioned, this coffee has a great taste. I've tried different instant coffees before, but this one is one of the better ones. Another one of my favorites, if you want to try it out (though NOT organic), is 'Africafe pure instant coffee'\n",
            "\n",
            "\n",
            "Yes, it's probably healthier than 5-Hour Energy or Starbucks shots but if you're looking to avoid a caffeine overload, this is still not for you. Most energy drinks cannot be made w/ out a high dosage of caffeine. I believe the caffeine content of 1 Guayaki shot is 150 mL - probably lower than other un-healthy energy shot drinks but I believe most other people avoid the top brands b/c they contain too much caffeine and/or sugar. If you do not react well to caffeine, Guayaki is not a good buy either. I definitely feel an energy boost w/ 1 full Guayaki shot but not w/ out all the other caffeine side effects - irritability, nervousness, mood-swings. Caffeine overdose is why I stopped drinking coffee. But it looks even organic energy drinks are still not safe.<br /><br />Now you're NOT sensitive to caffeine, then it's a great buy. It's not loaded w/ sugar. The taste is easy and pleasant. It's not loaded w/ a bunch of chemicals like 5-Hour shots or Starbucks drinks. And the energy boost lasts for about 4 to 5 hours. Takes about 5 to 7 minutes to kick in but all this probably depends on your body/weight.<br /><br />Side note - if you want to feel energized during the day, have a protein drink first thing in the morning and stay away for heavy, fattening foods during the day that will make you feel sluggish and sleepy!\n",
            "\n",
            "\n",
            "Whats there to say about a fantastic chocolate chip cookie! The only thing that could be improved is if they offered a bushel box of these so you would not run out so fast. Hope these don't go the way of the dinosaur!\n",
            "\n",
            "\n",
            "______________________________________________________________________\n",
            "4 review of assigned to cluster  7\n",
            "----------------------------------------------------------------------\n",
            "The taste was great, but the berries had melted.  May order again in winter. If you order in cold weather you should enjoy flavor.\n",
            "\n",
            "\n",
            "Delicious. I cannot get Australian ginger where I live. This compares favorably to Australian Ginger I've purchased in other cities. Now I can enjoy it without traveling.\n",
            "\n",
            "\n",
            "I purchased these coffee mate singles to use at work along with the coffee \"tea\" bags.  They're great because they don't require refrigeration.\n",
            "\n",
            "\n",
            "______________________________________________________________________\n",
            "4 review of assigned to cluster  8\n",
            "----------------------------------------------------------------------\n",
            "not what I was expecting in terms of the company's reputation for excellent home delivery products\n",
            "\n",
            "\n",
            "good products and fast shipping equals a happy me. a little pricey but you can hand pick a few good flavors...a few i cant find anywhere else so def worth the price\n",
            "\n",
            "\n",
            "Couldn't believe it when told how relaxing this beverage was. Seriously, drink it only if you are getting ready for a nap or bedtime. If you have plans to drive or perform any other activity not recommended.<br /><br />I feel my arms and legs almost tingle with relaxation. After a short time my eyes start to get droopy and I am in another place.<br /><br />Love this stuff.\n",
            "\n",
            "\n",
            "______________________________________________________________________\n",
            "4 review of assigned to cluster  9\n",
            "----------------------------------------------------------------------\n",
            "I WAS VISITING MY FRIEND NATE THE OTHER MORNING FOR COFFEE , HE CAME OUT OF HIS STORAGE ROOM WITH ( A PACKET OF McCANNS INSTANT IRISH OATMEAL .) HE SUGGESTED THAT I TRY IT FOR MY OWN USE ,IN MY STASH . SOMETIMES NATE DOSE NOT GIVE YOU A CHANCE TO SAY NO , SO I ENDED UP TRYING THE APPLE AND CINN . FOUND IT TO BE VERY TASTEFULL WHEN MADE WITH WATER OR POWDERED MILK . IT GOES GOOD WITH O.J. AND COFFEE AND A SLICE OF TOAST AND YOUR READY TO TAKE ON THE WORLD...OR THE DAY AT LEAST..  JERRY REITH...\n",
            "\n",
            "\n",
            "These chocolate covered espresso beans are wonderful!  The chocolate is very dark and rich and the \"bean\" inside is a very delightful blend of flavors with just enough caffine to really give it a zing.\n",
            "\n",
            "\n",
            "These Honey Dijon chips bring a terrific balance of salty, tangy, sweet and crunchy. Other brands I've tried use too much mustard flavor, which overpowers the Honey Dijon pairing.<br /><br />These chips make a great side dish on a BBQ plate with baked beans, coleslaw or potato salad and grilled meat. Naturally, they also go down great with beer.<br /><br />As an Oregonian, I'm proud to share these delectable snacks with friends, especially those living outside our state and who haven't experienced gourmet chips. I tell them Kettle Brand does for potato chips what microbrews did for beer.<br /><br />Kettle Brand potato chips are unmistakable--a light gold color, rich flavor and amazing crunch. Kettle Brand chips are also a healthier snacking option than the major chip brands. Kettle Brand chips don't have trans fats, MSG or artificial flavors and colorings. The company also has a line of organic potato chips and all of their products are certified Kosher.<br /><br />I also recommend these other Kettle Chips flavors: <a href=\"http://www.amazon.com/gp/product/B000G6MBUA\">Kettle Chips Sea Salt & Vinegar</a> and <a href=\"http://www.amazon.com/gp/product/B000G6Q4GM\">Kettle Chips Spicy Thai</a>.<br /><br />Annette Solomon, a reporter for the Salem Statesman Journal recently noted that a glass of wine goes nicely with these chips. Solomon wrote, \"...you could be missing out on a wonderful pairing. These chips are spicy, so you would want to select a semi-sweet white wine. Also, a moderate amount of acid will subdue the strong flavors of ginger, lime, garlic and cilantro without over-powering them. Classically, a German-style Riesling fits these parameters perfectly.\"\n",
            "\n",
            "\n",
            "______________________________________________________________________\n"
          ]
        }
      ]
    },
    {
      "cell_type": "code",
      "source": [
        "%%shell\n",
        "jupyter nbconvert --to html /content/TextClusteringNoOutput.ipynb"
      ],
      "metadata": {
        "id": "uPQEjwOIAQ83"
      },
      "execution_count": null,
      "outputs": []
    },
    {
      "cell_type": "code",
      "source": [
        "print(nltk.data.find('corpora/stopwords/english'))"
      ],
      "metadata": {
        "colab": {
          "base_uri": "https://localhost:8080/"
        },
        "id": "N811oDBoOEt-",
        "outputId": "8217c4a8-377d-4554-9480-a32873825c1f"
      },
      "execution_count": null,
      "outputs": [
        {
          "output_type": "stream",
          "name": "stdout",
          "text": [
            "/root/nltk_data/corpora/stopwords/english\n"
          ]
        }
      ]
    },
    {
      "cell_type": "code",
      "source": [
        "from tensorflow.keras.models import Sequential"
      ],
      "metadata": {
        "id": "6UJGSn-SFpVr"
      },
      "execution_count": null,
      "outputs": []
    },
    {
      "cell_type": "code",
      "source": [
        "model = Sequential()\n"
      ],
      "metadata": {
        "id": "obUGThp2gbAv"
      },
      "execution_count": null,
      "outputs": []
    },
    {
      "cell_type": "code",
      "source": [
        "term"
      ],
      "metadata": {
        "colab": {
          "base_uri": "https://localhost:8080/"
        },
        "id": "wQyCRlV-h4t1",
        "outputId": "5291e80e-0166-416d-c457-011dcde21477"
      },
      "execution_count": null,
      "outputs": [
        {
          "output_type": "execute_result",
          "data": {
            "text/plain": [
              "2763"
            ]
          },
          "metadata": {},
          "execution_count": 17
        }
      ]
    }
  ]
}